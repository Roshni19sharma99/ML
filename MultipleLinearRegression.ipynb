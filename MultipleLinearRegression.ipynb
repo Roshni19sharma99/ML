{
 "cells": [
  {
   "cell_type": "code",
   "execution_count": 28,
   "metadata": {},
   "outputs": [],
   "source": [
    "import numpy as np\n",
    "import pandas as pd\n",
    "import matplotlib.pyplot as plt\n",
    "from PreprocessingData import DataLoader\n",
    "%matplotlib inline"
   ]
  },
  {
   "cell_type": "code",
   "execution_count": 29,
   "metadata": {},
   "outputs": [
    {
     "data": {
      "text/html": [
       "<div>\n",
       "<style scoped>\n",
       "    .dataframe tbody tr th:only-of-type {\n",
       "        vertical-align: middle;\n",
       "    }\n",
       "\n",
       "    .dataframe tbody tr th {\n",
       "        vertical-align: top;\n",
       "    }\n",
       "\n",
       "    .dataframe thead th {\n",
       "        text-align: right;\n",
       "    }\n",
       "</style>\n",
       "<table border=\"1\" class=\"dataframe\">\n",
       "  <thead>\n",
       "    <tr style=\"text-align: right;\">\n",
       "      <th></th>\n",
       "      <th>Unnamed: 0</th>\n",
       "      <th>Rating</th>\n",
       "      <th>Spec_score</th>\n",
       "    </tr>\n",
       "  </thead>\n",
       "  <tbody>\n",
       "    <tr>\n",
       "      <th>count</th>\n",
       "      <td>1370.000000</td>\n",
       "      <td>1370.000000</td>\n",
       "      <td>1370.000000</td>\n",
       "    </tr>\n",
       "    <tr>\n",
       "      <th>mean</th>\n",
       "      <td>684.500000</td>\n",
       "      <td>4.374416</td>\n",
       "      <td>80.234307</td>\n",
       "    </tr>\n",
       "    <tr>\n",
       "      <th>std</th>\n",
       "      <td>395.629246</td>\n",
       "      <td>0.230176</td>\n",
       "      <td>8.373922</td>\n",
       "    </tr>\n",
       "    <tr>\n",
       "      <th>min</th>\n",
       "      <td>0.000000</td>\n",
       "      <td>3.750000</td>\n",
       "      <td>42.000000</td>\n",
       "    </tr>\n",
       "    <tr>\n",
       "      <th>25%</th>\n",
       "      <td>342.250000</td>\n",
       "      <td>4.150000</td>\n",
       "      <td>75.000000</td>\n",
       "    </tr>\n",
       "    <tr>\n",
       "      <th>50%</th>\n",
       "      <td>684.500000</td>\n",
       "      <td>4.400000</td>\n",
       "      <td>82.000000</td>\n",
       "    </tr>\n",
       "    <tr>\n",
       "      <th>75%</th>\n",
       "      <td>1026.750000</td>\n",
       "      <td>4.550000</td>\n",
       "      <td>86.000000</td>\n",
       "    </tr>\n",
       "    <tr>\n",
       "      <th>max</th>\n",
       "      <td>1369.000000</td>\n",
       "      <td>4.750000</td>\n",
       "      <td>98.000000</td>\n",
       "    </tr>\n",
       "  </tbody>\n",
       "</table>\n",
       "</div>"
      ],
      "text/plain": [
       "        Unnamed: 0       Rating   Spec_score\n",
       "count  1370.000000  1370.000000  1370.000000\n",
       "mean    684.500000     4.374416    80.234307\n",
       "std     395.629246     0.230176     8.373922\n",
       "min       0.000000     3.750000    42.000000\n",
       "25%     342.250000     4.150000    75.000000\n",
       "50%     684.500000     4.400000    82.000000\n",
       "75%    1026.750000     4.550000    86.000000\n",
       "max    1369.000000     4.750000    98.000000"
      ]
     },
     "execution_count": 29,
     "metadata": {},
     "output_type": "execute_result"
    }
   ],
   "source": [
    "data_loader = DataLoader()\n",
    "data_loader.load_dataset(path='Data/mobile phone price prediction.csv')\n",
    "data_loader.data.describe()"
   ]
  },
  {
   "cell_type": "code",
   "execution_count": 30,
   "metadata": {},
   "outputs": [
    {
     "name": "stdout",
     "output_type": "stream",
     "text": [
      "(1370, 18)\n",
      "Index(['Unnamed: 0', 'Name', 'Rating', 'Spec_score', 'No_of_sim', 'Ram',\n",
      "       'Battery', 'Display', 'Camera', 'External_Memory', 'Android_version',\n",
      "       'company', 'Inbuilt_memory', 'fast_charging', 'Screen_resolution',\n",
      "       'Processor', 'Processor_name', 'Price'],\n",
      "      dtype='object')\n"
     ]
    }
   ],
   "source": [
    "print(data_loader.data.shape)\n",
    "print(data_loader.data.columns)"
   ]
  },
  {
   "cell_type": "code",
   "execution_count": 31,
   "metadata": {},
   "outputs": [
    {
     "name": "stdout",
     "output_type": "stream",
     "text": [
      "   Unnamed: 0                                  Name  Rating  Spec_score  \\\n",
      "0           0                 Samsung Galaxy F14 5G    4.65          68   \n",
      "1           1                    Samsung Galaxy A11    4.20          63   \n",
      "2           2                    Samsung Galaxy A13    4.30          75   \n",
      "3           3                    Samsung Galaxy F23    4.10          73   \n",
      "4           4  Samsung Galaxy A03s (4GB RAM + 64GB)    4.10          69   \n",
      "\n",
      "                       No_of_sim       Ram            Battery     Display  \\\n",
      "0  Dual Sim, 3G, 4G, 5G, VoLTE,   4 GB RAM  6000 mAh Battery   6.6 inches   \n",
      "1      Dual Sim, 3G, 4G, VoLTE,   2 GB RAM  4000 mAh Battery   6.4 inches   \n",
      "2      Dual Sim, 3G, 4G, VoLTE,   4 GB RAM  5000 mAh Battery   6.6 inches   \n",
      "3      Dual Sim, 3G, 4G, VoLTE,   4 GB RAM   6000 mAh Battery  6.4 inches   \n",
      "4      Dual Sim, 3G, 4G, VoLTE,   4 GB RAM  5000 mAh Battery   6.5 inches   \n",
      "\n",
      "                                              Camera  \\\n",
      "0    50 MP + 2 MP Dual Rear &amp; 13 MP Front Camera   \n",
      "1  13 MP + 5 MP + 2 MP Triple Rear &amp; 8 MP Fro...   \n",
      "2            50 MP Quad Rear &amp; 8 MP Front Camera   \n",
      "3           48 MP Quad Rear &amp; 13 MP Front Camera   \n",
      "4  13 MP + 2 MP + 2 MP Triple Rear &amp; 5 MP Fro...   \n",
      "\n",
      "                      External_Memory Android_version  company  \\\n",
      "0    Memory Card Supported, upto 1 TB              13  Samsung   \n",
      "1  Memory Card Supported, upto 512 GB              10  Samsung   \n",
      "2    Memory Card Supported, upto 1 TB              12  Samsung   \n",
      "3    Memory Card Supported, upto 1 TB              12  Samsung   \n",
      "4    Memory Card Supported, upto 1 TB              11  Samsung   \n",
      "\n",
      "    Inbuilt_memory       fast_charging  \\\n",
      "0   128 GB inbuilt   25W Fast Charging   \n",
      "1    32 GB inbuilt   15W Fast Charging   \n",
      "2    64 GB inbuilt   25W Fast Charging   \n",
      "3    64 GB inbuilt                 NaN   \n",
      "4    64 GB inbuilt   15W Fast Charging   \n",
      "\n",
      "                               Screen_resolution             Processor  \\\n",
      "0   2408 x 1080 px Display with Water Drop Notch   Octa Core Processor   \n",
      "1          720 x 1560 px Display with Punch Hole     1.8 GHz Processor   \n",
      "2   1080 x 2408 px Display with Water Drop Notch       2 GHz Processor   \n",
      "3                                  720 x 1600 px             Octa Core   \n",
      "4    720 x 1600 px Display with Water Drop Notch             Octa Core   \n",
      "\n",
      "  Processor_name   Price  \n",
      "0    Exynos 1330   9,999  \n",
      "1      Octa Core   9,990  \n",
      "2      Octa Core  11,999  \n",
      "3      Helio G88  11,999  \n",
      "4      Helio P35  11,999  \n"
     ]
    }
   ],
   "source": [
    "print(data_loader.data.head())"
   ]
  },
  {
   "cell_type": "code",
   "execution_count": 32,
   "metadata": {},
   "outputs": [],
   "source": [
    "data_loader.Null_value_handling()"
   ]
  },
  {
   "cell_type": "code",
   "execution_count": 33,
   "metadata": {},
   "outputs": [
    {
     "name": "stdout",
     "output_type": "stream",
     "text": [
      "(1237, 14)\n",
      "Index(['Rating', 'Spec_score', 'No_of_sim', 'Ram', 'Battery', 'Display',\n",
      "       'Camera', 'External_Memory', 'company', 'Inbuilt_memory',\n",
      "       'fast_charging', 'Screen_resolution', 'Processor', 'Price'],\n",
      "      dtype='object')\n"
     ]
    }
   ],
   "source": [
    "print(data_loader.data.shape)\n",
    "print(data_loader.data.columns)"
   ]
  },
  {
   "cell_type": "code",
   "execution_count": 34,
   "metadata": {},
   "outputs": [
    {
     "name": "stdout",
     "output_type": "stream",
     "text": [
      "   Rating  Spec_score                      No_of_sim       Ram  \\\n",
      "0    4.65          68  Dual Sim, 3G, 4G, 5G, VoLTE,   4 GB RAM   \n",
      "1    4.20          63      Dual Sim, 3G, 4G, VoLTE,   2 GB RAM   \n",
      "2    4.30          75      Dual Sim, 3G, 4G, VoLTE,   4 GB RAM   \n",
      "4    4.10          69      Dual Sim, 3G, 4G, VoLTE,   4 GB RAM   \n",
      "5    4.40          75  Dual Sim, 3G, 4G, 5G, VoLTE,   6 GB RAM   \n",
      "\n",
      "             Battery     Display  \\\n",
      "0  6000 mAh Battery   6.6 inches   \n",
      "1  4000 mAh Battery   6.4 inches   \n",
      "2  5000 mAh Battery   6.6 inches   \n",
      "4  5000 mAh Battery   6.5 inches   \n",
      "5  5000 mAh Battery   6.5 inches   \n",
      "\n",
      "                                              Camera  \\\n",
      "0    50 MP + 2 MP Dual Rear &amp; 13 MP Front Camera   \n",
      "1  13 MP + 5 MP + 2 MP Triple Rear &amp; 8 MP Fro...   \n",
      "2            50 MP Quad Rear &amp; 8 MP Front Camera   \n",
      "4  13 MP + 2 MP + 2 MP Triple Rear &amp; 5 MP Fro...   \n",
      "5     50 MP + 2 MP Dual Rear &amp; 5 MP Front Camera   \n",
      "\n",
      "                      External_Memory  company   Inbuilt_memory  \\\n",
      "0    Memory Card Supported, upto 1 TB  Samsung   128 GB inbuilt   \n",
      "1  Memory Card Supported, upto 512 GB  Samsung    32 GB inbuilt   \n",
      "2    Memory Card Supported, upto 1 TB  Samsung    64 GB inbuilt   \n",
      "4    Memory Card Supported, upto 1 TB  Samsung    64 GB inbuilt   \n",
      "5    Memory Card Supported, upto 1 TB  Samsung   128 GB inbuilt   \n",
      "\n",
      "        fast_charging                              Screen_resolution  \\\n",
      "0   25W Fast Charging   2408 x 1080 px Display with Water Drop Notch   \n",
      "1   15W Fast Charging          720 x 1560 px Display with Punch Hole   \n",
      "2   25W Fast Charging   1080 x 2408 px Display with Water Drop Notch   \n",
      "4   15W Fast Charging    720 x 1600 px Display with Water Drop Notch   \n",
      "5   15W Fast Charging                                  720 x 1600 px   \n",
      "\n",
      "              Processor    Price  \n",
      "0   Octa Core Processor   9999.0  \n",
      "1     1.8 GHz Processor   9990.0  \n",
      "2       2 GHz Processor  11999.0  \n",
      "4             Octa Core  11999.0  \n",
      "5             Octa Core  11990.0  \n"
     ]
    }
   ],
   "source": [
    "print(data_loader.data.head())"
   ]
  },
  {
   "cell_type": "code",
   "execution_count": 35,
   "metadata": {},
   "outputs": [],
   "source": [
    "data_loader.preprocess_data()"
   ]
  },
  {
   "cell_type": "code",
   "execution_count": 36,
   "metadata": {},
   "outputs": [
    {
     "name": "stdout",
     "output_type": "stream",
     "text": [
      "(1237, 768)\n",
      "Index(['No_of_sim_Dual Sim, 3G, 4G, ',\n",
      "       'No_of_sim_Dual Sim, 3G, 4G, 5G, VoLTE, ',\n",
      "       'No_of_sim_Dual Sim, 3G, 4G, 5G, VoLTE, Vo5G, ',\n",
      "       'No_of_sim_Dual Sim, 3G, 4G, VoLTE, ', 'No_of_sim_No Sim Supported, ',\n",
      "       'No_of_sim_Single Sim, 3G, 4G, 5G, VoLTE, ',\n",
      "       'No_of_sim_Single Sim, 3G, 4G, 5G, VoLTE, Vo5G, ',\n",
      "       'No_of_sim_Single Sim, 3G, 4G, VoLTE, ', 'Ram_12 GB RAM',\n",
      "       'Ram_16 GB RAM',\n",
      "       ...\n",
      "       'Processor_ 2.3 GHz Processor', 'Processor_ Deca Core',\n",
      "       'Processor_ Deca Core Processor', 'Processor_ Nine Core',\n",
      "       'Processor_ Nine Cores', 'Processor_ Nine-Cores',\n",
      "       'Processor_ Octa Core', 'Processor_ Octa Core Processor',\n",
      "       'Processor_ Quad Core', 'Price'],\n",
      "      dtype='object', length=768)\n"
     ]
    }
   ],
   "source": [
    "print(data_loader.data.shape)\n",
    "print(data_loader.data.columns)"
   ]
  },
  {
   "cell_type": "code",
   "execution_count": 37,
   "metadata": {},
   "outputs": [],
   "source": [
    "X_train,X_test,y_train,y_test = data_loader.get_data_split()"
   ]
  },
  {
   "cell_type": "code",
   "execution_count": 38,
   "metadata": {},
   "outputs": [
    {
     "name": "stdout",
     "output_type": "stream",
     "text": [
      "(989, 767)\n",
      "(248, 767)\n",
      "(989,)\n",
      "(248,)\n"
     ]
    }
   ],
   "source": [
    "print(X_train.shape)\n",
    "print(X_test.shape)\n",
    "print(y_train.shape)\n",
    "print(y_test.shape)"
   ]
  },
  {
   "cell_type": "code",
   "execution_count": 43,
   "metadata": {},
   "outputs": [
    {
     "name": "stdout",
     "output_type": "stream",
     "text": [
      "<class 'pandas.core.frame.DataFrame'>\n",
      "Index: 248 entries, 1100 to 375\n",
      "Columns: 767 entries, No_of_sim_Dual Sim, 3G, 4G,  to Processor_ Quad Core\n",
      "dtypes: float64(767)\n",
      "memory usage: 1.5 MB\n"
     ]
    }
   ],
   "source": [
    "X_test.info()"
   ]
  },
  {
   "cell_type": "code",
   "execution_count": 40,
   "metadata": {},
   "outputs": [
    {
     "name": "stderr",
     "output_type": "stream",
     "text": [
      "c:\\Users\\roshni_sharma\\AppData\\Local\\Programs\\Python\\Python311\\Lib\\site-packages\\sklearn\\base.py:493: UserWarning: X does not have valid feature names, but LinearRegression was fitted with feature names\n",
      "  warnings.warn(\n"
     ]
    },
    {
     "ename": "ValueError",
     "evalue": "Expected a 2-dimensional container but got <class 'pandas.core.series.Series'> instead. Pass a DataFrame containing a single row (i.e. single sample) or a single column (i.e. single feature) instead.",
     "output_type": "error",
     "traceback": [
      "\u001b[1;31m---------------------------------------------------------------------------\u001b[0m",
      "\u001b[1;31mValueError\u001b[0m                                Traceback (most recent call last)",
      "Cell \u001b[1;32mIn[40], line 4\u001b[0m\n\u001b[0;32m      2\u001b[0m regressor \u001b[38;5;241m=\u001b[39m LinearRegression()\n\u001b[0;32m      3\u001b[0m regressor\u001b[38;5;241m.\u001b[39mfit(X_train,y_train)\n\u001b[1;32m----> 4\u001b[0m \u001b[43mregressor\u001b[49m\u001b[38;5;241;43m.\u001b[39;49m\u001b[43mpredict\u001b[49m\u001b[43m(\u001b[49m\u001b[43my_test\u001b[49m\u001b[43m)\u001b[49m\n",
      "File \u001b[1;32mc:\\Users\\roshni_sharma\\AppData\\Local\\Programs\\Python\\Python311\\Lib\\site-packages\\sklearn\\linear_model\\_base.py:306\u001b[0m, in \u001b[0;36mLinearModel.predict\u001b[1;34m(self, X)\u001b[0m\n\u001b[0;32m    292\u001b[0m \u001b[38;5;28;01mdef\u001b[39;00m \u001b[38;5;21mpredict\u001b[39m(\u001b[38;5;28mself\u001b[39m, X):\n\u001b[0;32m    293\u001b[0m \u001b[38;5;250m    \u001b[39m\u001b[38;5;124;03m\"\"\"\u001b[39;00m\n\u001b[0;32m    294\u001b[0m \u001b[38;5;124;03m    Predict using the linear model.\u001b[39;00m\n\u001b[0;32m    295\u001b[0m \n\u001b[1;32m   (...)\u001b[0m\n\u001b[0;32m    304\u001b[0m \u001b[38;5;124;03m        Returns predicted values.\u001b[39;00m\n\u001b[0;32m    305\u001b[0m \u001b[38;5;124;03m    \"\"\"\u001b[39;00m\n\u001b[1;32m--> 306\u001b[0m     \u001b[38;5;28;01mreturn\u001b[39;00m \u001b[38;5;28;43mself\u001b[39;49m\u001b[38;5;241;43m.\u001b[39;49m\u001b[43m_decision_function\u001b[49m\u001b[43m(\u001b[49m\u001b[43mX\u001b[49m\u001b[43m)\u001b[49m\n",
      "File \u001b[1;32mc:\\Users\\roshni_sharma\\AppData\\Local\\Programs\\Python\\Python311\\Lib\\site-packages\\sklearn\\linear_model\\_base.py:285\u001b[0m, in \u001b[0;36mLinearModel._decision_function\u001b[1;34m(self, X)\u001b[0m\n\u001b[0;32m    282\u001b[0m \u001b[38;5;28;01mdef\u001b[39;00m \u001b[38;5;21m_decision_function\u001b[39m(\u001b[38;5;28mself\u001b[39m, X):\n\u001b[0;32m    283\u001b[0m     check_is_fitted(\u001b[38;5;28mself\u001b[39m)\n\u001b[1;32m--> 285\u001b[0m     X \u001b[38;5;241m=\u001b[39m \u001b[38;5;28;43mself\u001b[39;49m\u001b[38;5;241;43m.\u001b[39;49m\u001b[43m_validate_data\u001b[49m\u001b[43m(\u001b[49m\u001b[43mX\u001b[49m\u001b[43m,\u001b[49m\u001b[43m \u001b[49m\u001b[43maccept_sparse\u001b[49m\u001b[38;5;241;43m=\u001b[39;49m\u001b[43m[\u001b[49m\u001b[38;5;124;43m\"\u001b[39;49m\u001b[38;5;124;43mcsr\u001b[39;49m\u001b[38;5;124;43m\"\u001b[39;49m\u001b[43m,\u001b[49m\u001b[43m \u001b[49m\u001b[38;5;124;43m\"\u001b[39;49m\u001b[38;5;124;43mcsc\u001b[39;49m\u001b[38;5;124;43m\"\u001b[39;49m\u001b[43m,\u001b[49m\u001b[43m \u001b[49m\u001b[38;5;124;43m\"\u001b[39;49m\u001b[38;5;124;43mcoo\u001b[39;49m\u001b[38;5;124;43m\"\u001b[39;49m\u001b[43m]\u001b[49m\u001b[43m,\u001b[49m\u001b[43m \u001b[49m\u001b[43mreset\u001b[49m\u001b[38;5;241;43m=\u001b[39;49m\u001b[38;5;28;43;01mFalse\u001b[39;49;00m\u001b[43m)\u001b[49m\n\u001b[0;32m    286\u001b[0m     coef_ \u001b[38;5;241m=\u001b[39m \u001b[38;5;28mself\u001b[39m\u001b[38;5;241m.\u001b[39mcoef_\n\u001b[0;32m    287\u001b[0m     \u001b[38;5;28;01mif\u001b[39;00m coef_\u001b[38;5;241m.\u001b[39mndim \u001b[38;5;241m==\u001b[39m \u001b[38;5;241m1\u001b[39m:\n",
      "File \u001b[1;32mc:\\Users\\roshni_sharma\\AppData\\Local\\Programs\\Python\\Python311\\Lib\\site-packages\\sklearn\\base.py:633\u001b[0m, in \u001b[0;36mBaseEstimator._validate_data\u001b[1;34m(self, X, y, reset, validate_separately, cast_to_ndarray, **check_params)\u001b[0m\n\u001b[0;32m    631\u001b[0m         out \u001b[38;5;241m=\u001b[39m X, y\n\u001b[0;32m    632\u001b[0m \u001b[38;5;28;01melif\u001b[39;00m \u001b[38;5;129;01mnot\u001b[39;00m no_val_X \u001b[38;5;129;01mand\u001b[39;00m no_val_y:\n\u001b[1;32m--> 633\u001b[0m     out \u001b[38;5;241m=\u001b[39m \u001b[43mcheck_array\u001b[49m\u001b[43m(\u001b[49m\u001b[43mX\u001b[49m\u001b[43m,\u001b[49m\u001b[43m \u001b[49m\u001b[43minput_name\u001b[49m\u001b[38;5;241;43m=\u001b[39;49m\u001b[38;5;124;43m\"\u001b[39;49m\u001b[38;5;124;43mX\u001b[39;49m\u001b[38;5;124;43m\"\u001b[39;49m\u001b[43m,\u001b[49m\u001b[43m \u001b[49m\u001b[38;5;241;43m*\u001b[39;49m\u001b[38;5;241;43m*\u001b[39;49m\u001b[43mcheck_params\u001b[49m\u001b[43m)\u001b[49m\n\u001b[0;32m    634\u001b[0m \u001b[38;5;28;01melif\u001b[39;00m no_val_X \u001b[38;5;129;01mand\u001b[39;00m \u001b[38;5;129;01mnot\u001b[39;00m no_val_y:\n\u001b[0;32m    635\u001b[0m     out \u001b[38;5;241m=\u001b[39m _check_y(y, \u001b[38;5;241m*\u001b[39m\u001b[38;5;241m*\u001b[39mcheck_params)\n",
      "File \u001b[1;32mc:\\Users\\roshni_sharma\\AppData\\Local\\Programs\\Python\\Python311\\Lib\\site-packages\\sklearn\\utils\\validation.py:1045\u001b[0m, in \u001b[0;36mcheck_array\u001b[1;34m(array, accept_sparse, accept_large_sparse, dtype, order, copy, force_all_finite, ensure_2d, allow_nd, ensure_min_samples, ensure_min_features, estimator, input_name)\u001b[0m\n\u001b[0;32m   1038\u001b[0m         \u001b[38;5;28;01melse\u001b[39;00m:\n\u001b[0;32m   1039\u001b[0m             msg \u001b[38;5;241m=\u001b[39m (\n\u001b[0;32m   1040\u001b[0m                 \u001b[38;5;124mf\u001b[39m\u001b[38;5;124m\"\u001b[39m\u001b[38;5;124mExpected 2D array, got 1D array instead:\u001b[39m\u001b[38;5;130;01m\\n\u001b[39;00m\u001b[38;5;124marray=\u001b[39m\u001b[38;5;132;01m{\u001b[39;00marray\u001b[38;5;132;01m}\u001b[39;00m\u001b[38;5;124m.\u001b[39m\u001b[38;5;130;01m\\n\u001b[39;00m\u001b[38;5;124m\"\u001b[39m\n\u001b[0;32m   1041\u001b[0m                 \u001b[38;5;124m\"\u001b[39m\u001b[38;5;124mReshape your data either using array.reshape(-1, 1) if \u001b[39m\u001b[38;5;124m\"\u001b[39m\n\u001b[0;32m   1042\u001b[0m                 \u001b[38;5;124m\"\u001b[39m\u001b[38;5;124myour data has a single feature or array.reshape(1, -1) \u001b[39m\u001b[38;5;124m\"\u001b[39m\n\u001b[0;32m   1043\u001b[0m                 \u001b[38;5;124m\"\u001b[39m\u001b[38;5;124mif it contains a single sample.\u001b[39m\u001b[38;5;124m\"\u001b[39m\n\u001b[0;32m   1044\u001b[0m             )\n\u001b[1;32m-> 1045\u001b[0m         \u001b[38;5;28;01mraise\u001b[39;00m \u001b[38;5;167;01mValueError\u001b[39;00m(msg)\n\u001b[0;32m   1047\u001b[0m \u001b[38;5;28;01mif\u001b[39;00m dtype_numeric \u001b[38;5;129;01mand\u001b[39;00m \u001b[38;5;28mhasattr\u001b[39m(array\u001b[38;5;241m.\u001b[39mdtype, \u001b[38;5;124m\"\u001b[39m\u001b[38;5;124mkind\u001b[39m\u001b[38;5;124m\"\u001b[39m) \u001b[38;5;129;01mand\u001b[39;00m array\u001b[38;5;241m.\u001b[39mdtype\u001b[38;5;241m.\u001b[39mkind \u001b[38;5;129;01min\u001b[39;00m \u001b[38;5;124m\"\u001b[39m\u001b[38;5;124mUSV\u001b[39m\u001b[38;5;124m\"\u001b[39m:\n\u001b[0;32m   1048\u001b[0m     \u001b[38;5;28;01mraise\u001b[39;00m \u001b[38;5;167;01mValueError\u001b[39;00m(\n\u001b[0;32m   1049\u001b[0m         \u001b[38;5;124m\"\u001b[39m\u001b[38;5;124mdtype=\u001b[39m\u001b[38;5;124m'\u001b[39m\u001b[38;5;124mnumeric\u001b[39m\u001b[38;5;124m'\u001b[39m\u001b[38;5;124m is not compatible with arrays of bytes/strings.\u001b[39m\u001b[38;5;124m\"\u001b[39m\n\u001b[0;32m   1050\u001b[0m         \u001b[38;5;124m\"\u001b[39m\u001b[38;5;124mConvert your data to numeric values explicitly instead.\u001b[39m\u001b[38;5;124m\"\u001b[39m\n\u001b[0;32m   1051\u001b[0m     )\n",
      "\u001b[1;31mValueError\u001b[0m: Expected a 2-dimensional container but got <class 'pandas.core.series.Series'> instead. Pass a DataFrame containing a single row (i.e. single sample) or a single column (i.e. single feature) instead."
     ]
    }
   ],
   "source": [
    "from sklearn.linear_model import LinearRegression\n",
    "regressor = LinearRegression()\n",
    "regressor.fit(X_train,y_train)\n",
    "regressor.predict(y_test)"
   ]
  },
  {
   "cell_type": "code",
   "execution_count": null,
   "metadata": {},
   "outputs": [],
   "source": []
  }
 ],
 "metadata": {
  "kernelspec": {
   "display_name": "Python 3",
   "language": "python",
   "name": "python3"
  },
  "language_info": {
   "codemirror_mode": {
    "name": "ipython",
    "version": 3
   },
   "file_extension": ".py",
   "mimetype": "text/x-python",
   "name": "python",
   "nbconvert_exporter": "python",
   "pygments_lexer": "ipython3",
   "version": "3.11.1"
  }
 },
 "nbformat": 4,
 "nbformat_minor": 2
}
